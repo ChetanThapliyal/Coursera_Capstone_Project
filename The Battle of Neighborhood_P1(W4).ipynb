{
    "nbformat_minor": 2, 
    "cells": [
        {
            "source": "# Capstone Project_Part1 (W4)", 
            "cell_type": "markdown", 
            "metadata": {}
        }, 
        {
            "source": "## Description of Problem\n\n  ### **Business Understanding**  \n   + **Problem brought up by Client** -   \n        Which City and Locality is best to open a Casino/Shopping mall in USA?\n\n     +**Background**\n        My client is a successful Entrepreneur in Asia and now he wants to expand his Business in other countries. He wants to open a Casiono/Shopping Mall in USA but not sure in which City and Locality he should open the Mall and be Succeessful.\n\n### **Analytical approach**-\nAccording to the need of client first we have to find the City and then the Locality in that city for Business. To solve this particular problem and to gather data we will set few Benchmarks for the City and the locality in which opening a Casino/Shopping Mall would be Successful. \n\n1. For discovering the City following benchmarks must meet\n    + Nightlife\n    + Services\n    + Transport\n    + Residence\n    + Universities\n    + Food\n    + Entertainment\n    + Travel\n    + Outdoor Activities  \n\n\n2. Benchmarks for the Locality in City\n    + Per Capita Income\n    + Population\n    + Population Density\n    + Venues\n\n## **Data Requirements and Description**-\n\nData that will be required for solving the problem - \n+ List of all the cities in United States with population density and coordinates\n+ List of all the cities in United States with Per Capita Income\n+ List of all venues in each city \n+ List of all venues in each locality in the selected city  \n\n### Source of Data\n\n**Wikipedia**\n+ https://en.wikipedia.org/wiki/List_of_United_States_cities_by_population\n+ https://en.wikipedia.org/wiki/List_of_United_States_counties_by_per_capita_income\n\n**FourSquare API**\n+ For Venues in CIty and in Each locality in selected city.\n\n### Data Description (How to use Data to solve the Problem?)\nBy Using the Wikipedia data we will first analyse the data and then focus on certain benchmarks to discover the best City in USA to open a Casino/Shopping mall. Then by leveraging the Foursquare data we will compare and try to find the best locality. \nBased on Scores we will try to determine the Locality in simillar way.", 
            "cell_type": "markdown", 
            "metadata": {}
        }, 
        {
            "source": "", 
            "cell_type": "code", 
            "metadata": {}, 
            "outputs": [], 
            "execution_count": null
        }
    ], 
    "metadata": {
        "kernelspec": {
            "display_name": "Python 3.5", 
            "name": "python3", 
            "language": "python"
        }, 
        "language_info": {
            "mimetype": "text/x-python", 
            "nbconvert_exporter": "python", 
            "version": "3.5.5", 
            "name": "python", 
            "pygments_lexer": "ipython3", 
            "file_extension": ".py", 
            "codemirror_mode": {
                "version": 3, 
                "name": "ipython"
            }
        }
    }, 
    "nbformat": 4
}