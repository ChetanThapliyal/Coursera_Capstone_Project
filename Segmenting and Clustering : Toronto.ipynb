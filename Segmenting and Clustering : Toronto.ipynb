{
    "nbformat_minor": 1, 
    "cells": [
        {
            "source": "# Coursera Capstone\n### Segmenting and Clustering Neighborhoods in Toronto", 
            "cell_type": "markdown", 
            "metadata": {
                "collapsed": true
            }
        }, 
        {
            "source": "import numpy as np \nimport pandas as pd \nfrom bs4 import BeautifulSoup\nimport requests", 
            "cell_type": "code", 
            "metadata": {}, 
            "outputs": [], 
            "execution_count": 1
        }, 
        {
            "source": "source = requests.get('https://en.wikipedia.org/wiki/List_of_postal_codes_of_Canada:_M').text\nsoup = BeautifulSoup(source, 'lxml')", 
            "cell_type": "code", 
            "metadata": {}, 
            "outputs": [], 
            "execution_count": 2
        }, 
        {
            "source": "class Scrapy:\n       \n        def parse_url(self, url):\n            response = requests.get(url)\n            soup = BeautifulSoup(response.text, 'lxml')\n            return [(self.parse_html_table(table))\\\n                    for table in soup.find_all('table', class_=\"wikitable sortable\")]  \n    \n        def parse_html_table(self, table):\n            n_columns = 0\n            n_rows=0\n            column_names = []\n            for row in table.find_all('tr'):\n                td_tags = row.find_all('td')\n                if len(td_tags) > 0:\n                    n_rows+=1\n                    if n_columns == 0:\n                        n_columns = len(td_tags)\n                        \n                th_tags = row.find_all('th') \n                if len(th_tags) > 0 and len(column_names) == 0:\n                    for th in th_tags:\n                        column_names.append(th.get_text())\n    \n            if len(column_names) > 0 and len(column_names) != n_columns:\n                raise Exception(\"Column titles do not match the number of columns\")\n    \n            columns = column_names if len(column_names) > 0 else range(0,n_columns)\n            df = pd.DataFrame(columns = columns,\n                              index= range(0,n_rows))\n            row_marker = 0\n            for row in table.find_all('tr'):\n                column_marker = 0\n                columns = row.find_all('td')\n                for column in columns:\n                    df.iat[row_marker,column_marker] = column.get_text()\n                    column_marker += 1\n                if len(columns) > 0:\n                    row_marker += 1\n                    \n            for col in df:\n                try:\n                    df[col] = df[col].astype(float)\n                except ValueError:\n                    pass\n            \n            return df", 
            "cell_type": "code", 
            "metadata": {}, 
            "outputs": [], 
            "execution_count": 3
        }, 
        {
            "source": "url = 'https://en.wikipedia.org/wiki/List_of_postal_codes_of_Canada:_M'\nhp = Scrapy()\ntable = hp.parse_url(url)[0] \ntable.head(10)", 
            "cell_type": "code", 
            "metadata": {}, 
            "outputs": [
                {
                    "output_type": "execute_result", 
                    "data": {
                        "text/html": "<div>\n<style scoped>\n    .dataframe tbody tr th:only-of-type {\n        vertical-align: middle;\n    }\n\n    .dataframe tbody tr th {\n        vertical-align: top;\n    }\n\n    .dataframe thead th {\n        text-align: right;\n    }\n</style>\n<table border=\"1\" class=\"dataframe\">\n  <thead>\n    <tr style=\"text-align: right;\">\n      <th></th>\n      <th>Postcode</th>\n      <th>Borough</th>\n      <th>Neighbourhood</th>\n    </tr>\n  </thead>\n  <tbody>\n    <tr>\n      <th>0</th>\n      <td>M1A</td>\n      <td>Not assigned</td>\n      <td>Not assigned\\n</td>\n    </tr>\n    <tr>\n      <th>1</th>\n      <td>M2A</td>\n      <td>Not assigned</td>\n      <td>Not assigned\\n</td>\n    </tr>\n    <tr>\n      <th>2</th>\n      <td>M3A</td>\n      <td>North York</td>\n      <td>Parkwoods\\n</td>\n    </tr>\n    <tr>\n      <th>3</th>\n      <td>M4A</td>\n      <td>North York</td>\n      <td>Victoria Village\\n</td>\n    </tr>\n    <tr>\n      <th>4</th>\n      <td>M5A</td>\n      <td>Downtown Toronto</td>\n      <td>Harbourfront\\n</td>\n    </tr>\n    <tr>\n      <th>5</th>\n      <td>M5A</td>\n      <td>Downtown Toronto</td>\n      <td>Regent Park\\n</td>\n    </tr>\n    <tr>\n      <th>6</th>\n      <td>M6A</td>\n      <td>North York</td>\n      <td>Lawrence Heights\\n</td>\n    </tr>\n    <tr>\n      <th>7</th>\n      <td>M6A</td>\n      <td>North York</td>\n      <td>Lawrence Manor\\n</td>\n    </tr>\n    <tr>\n      <th>8</th>\n      <td>M7A</td>\n      <td>Queen's Park</td>\n      <td>Not assigned\\n</td>\n    </tr>\n    <tr>\n      <th>9</th>\n      <td>M8A</td>\n      <td>Not assigned</td>\n      <td>Not assigned\\n</td>\n    </tr>\n  </tbody>\n</table>\n</div>", 
                        "text/plain": "  Postcode           Borough     Neighbourhood\\n\n0      M1A      Not assigned      Not assigned\\n\n1      M2A      Not assigned      Not assigned\\n\n2      M3A        North York         Parkwoods\\n\n3      M4A        North York  Victoria Village\\n\n4      M5A  Downtown Toronto      Harbourfront\\n\n5      M5A  Downtown Toronto       Regent Park\\n\n6      M6A        North York  Lawrence Heights\\n\n7      M6A        North York    Lawrence Manor\\n\n8      M7A      Queen's Park      Not assigned\\n\n9      M8A      Not assigned      Not assigned\\n"
                    }, 
                    "execution_count": 4, 
                    "metadata": {}
                }
            ], 
            "execution_count": 4
        }, 
        {
            "source": "#### Remove the \"Not assigned\" values in DataFrame", 
            "cell_type": "markdown", 
            "metadata": {}
        }, 
        {
            "source": "table = table[table.Borough != 'Not assigned']\ntable.head(10)", 
            "cell_type": "code", 
            "metadata": {}, 
            "outputs": [
                {
                    "output_type": "execute_result", 
                    "data": {
                        "text/html": "<div>\n<style scoped>\n    .dataframe tbody tr th:only-of-type {\n        vertical-align: middle;\n    }\n\n    .dataframe tbody tr th {\n        vertical-align: top;\n    }\n\n    .dataframe thead th {\n        text-align: right;\n    }\n</style>\n<table border=\"1\" class=\"dataframe\">\n  <thead>\n    <tr style=\"text-align: right;\">\n      <th></th>\n      <th>Postcode</th>\n      <th>Borough</th>\n      <th>Neighbourhood</th>\n    </tr>\n  </thead>\n  <tbody>\n    <tr>\n      <th>2</th>\n      <td>M3A</td>\n      <td>North York</td>\n      <td>Parkwoods\\n</td>\n    </tr>\n    <tr>\n      <th>3</th>\n      <td>M4A</td>\n      <td>North York</td>\n      <td>Victoria Village\\n</td>\n    </tr>\n    <tr>\n      <th>4</th>\n      <td>M5A</td>\n      <td>Downtown Toronto</td>\n      <td>Harbourfront\\n</td>\n    </tr>\n    <tr>\n      <th>5</th>\n      <td>M5A</td>\n      <td>Downtown Toronto</td>\n      <td>Regent Park\\n</td>\n    </tr>\n    <tr>\n      <th>6</th>\n      <td>M6A</td>\n      <td>North York</td>\n      <td>Lawrence Heights\\n</td>\n    </tr>\n    <tr>\n      <th>7</th>\n      <td>M6A</td>\n      <td>North York</td>\n      <td>Lawrence Manor\\n</td>\n    </tr>\n    <tr>\n      <th>8</th>\n      <td>M7A</td>\n      <td>Queen's Park</td>\n      <td>Not assigned\\n</td>\n    </tr>\n    <tr>\n      <th>10</th>\n      <td>M9A</td>\n      <td>Etobicoke</td>\n      <td>Islington Avenue\\n</td>\n    </tr>\n    <tr>\n      <th>11</th>\n      <td>M1B</td>\n      <td>Scarborough</td>\n      <td>Rouge\\n</td>\n    </tr>\n    <tr>\n      <th>12</th>\n      <td>M1B</td>\n      <td>Scarborough</td>\n      <td>Malvern\\n</td>\n    </tr>\n  </tbody>\n</table>\n</div>", 
                        "text/plain": "   Postcode           Borough     Neighbourhood\\n\n2       M3A        North York         Parkwoods\\n\n3       M4A        North York  Victoria Village\\n\n4       M5A  Downtown Toronto      Harbourfront\\n\n5       M5A  Downtown Toronto       Regent Park\\n\n6       M6A        North York  Lawrence Heights\\n\n7       M6A        North York    Lawrence Manor\\n\n8       M7A      Queen's Park      Not assigned\\n\n10      M9A         Etobicoke  Islington Avenue\\n\n11      M1B       Scarborough             Rouge\\n\n12      M1B       Scarborough           Malvern\\n"
                    }, 
                    "execution_count": 5, 
                    "metadata": {}
                }
            ], 
            "execution_count": 5
        }, 
        {
            "source": "print(list(table))\ntable = table.replace('\\n',' ', regex=True)\ntable.head(10)", 
            "cell_type": "code", 
            "metadata": {}, 
            "outputs": [
                {
                    "output_type": "stream", 
                    "name": "stdout", 
                    "text": "['Postcode', 'Borough', 'Neighbourhood\\n']\n"
                }, 
                {
                    "output_type": "execute_result", 
                    "data": {
                        "text/html": "<div>\n<style scoped>\n    .dataframe tbody tr th:only-of-type {\n        vertical-align: middle;\n    }\n\n    .dataframe tbody tr th {\n        vertical-align: top;\n    }\n\n    .dataframe thead th {\n        text-align: right;\n    }\n</style>\n<table border=\"1\" class=\"dataframe\">\n  <thead>\n    <tr style=\"text-align: right;\">\n      <th></th>\n      <th>Postcode</th>\n      <th>Borough</th>\n      <th>Neighbourhood</th>\n    </tr>\n  </thead>\n  <tbody>\n    <tr>\n      <th>2</th>\n      <td>M3A</td>\n      <td>North York</td>\n      <td>Parkwoods</td>\n    </tr>\n    <tr>\n      <th>3</th>\n      <td>M4A</td>\n      <td>North York</td>\n      <td>Victoria Village</td>\n    </tr>\n    <tr>\n      <th>4</th>\n      <td>M5A</td>\n      <td>Downtown Toronto</td>\n      <td>Harbourfront</td>\n    </tr>\n    <tr>\n      <th>5</th>\n      <td>M5A</td>\n      <td>Downtown Toronto</td>\n      <td>Regent Park</td>\n    </tr>\n    <tr>\n      <th>6</th>\n      <td>M6A</td>\n      <td>North York</td>\n      <td>Lawrence Heights</td>\n    </tr>\n    <tr>\n      <th>7</th>\n      <td>M6A</td>\n      <td>North York</td>\n      <td>Lawrence Manor</td>\n    </tr>\n    <tr>\n      <th>8</th>\n      <td>M7A</td>\n      <td>Queen's Park</td>\n      <td>Not assigned</td>\n    </tr>\n    <tr>\n      <th>10</th>\n      <td>M9A</td>\n      <td>Etobicoke</td>\n      <td>Islington Avenue</td>\n    </tr>\n    <tr>\n      <th>11</th>\n      <td>M1B</td>\n      <td>Scarborough</td>\n      <td>Rouge</td>\n    </tr>\n    <tr>\n      <th>12</th>\n      <td>M1B</td>\n      <td>Scarborough</td>\n      <td>Malvern</td>\n    </tr>\n  </tbody>\n</table>\n</div>", 
                        "text/plain": "   Postcode           Borough    Neighbourhood\\n\n2       M3A        North York         Parkwoods \n3       M4A        North York  Victoria Village \n4       M5A  Downtown Toronto      Harbourfront \n5       M5A  Downtown Toronto       Regent Park \n6       M6A        North York  Lawrence Heights \n7       M6A        North York    Lawrence Manor \n8       M7A      Queen's Park      Not assigned \n10      M9A         Etobicoke  Islington Avenue \n11      M1B       Scarborough             Rouge \n12      M1B       Scarborough           Malvern "
                    }, 
                    "execution_count": 6, 
                    "metadata": {}
                }
            ], 
            "execution_count": 6
        }, 
        {
            "source": "table = table[table['Neighbourhood\\n'] != 'Not assigned']\ntable.head(10)", 
            "cell_type": "code", 
            "metadata": {}, 
            "outputs": [
                {
                    "output_type": "execute_result", 
                    "data": {
                        "text/html": "<div>\n<style scoped>\n    .dataframe tbody tr th:only-of-type {\n        vertical-align: middle;\n    }\n\n    .dataframe tbody tr th {\n        vertical-align: top;\n    }\n\n    .dataframe thead th {\n        text-align: right;\n    }\n</style>\n<table border=\"1\" class=\"dataframe\">\n  <thead>\n    <tr style=\"text-align: right;\">\n      <th></th>\n      <th>Postcode</th>\n      <th>Borough</th>\n      <th>Neighbourhood</th>\n    </tr>\n  </thead>\n  <tbody>\n    <tr>\n      <th>2</th>\n      <td>M3A</td>\n      <td>North York</td>\n      <td>Parkwoods</td>\n    </tr>\n    <tr>\n      <th>3</th>\n      <td>M4A</td>\n      <td>North York</td>\n      <td>Victoria Village</td>\n    </tr>\n    <tr>\n      <th>4</th>\n      <td>M5A</td>\n      <td>Downtown Toronto</td>\n      <td>Harbourfront</td>\n    </tr>\n    <tr>\n      <th>5</th>\n      <td>M5A</td>\n      <td>Downtown Toronto</td>\n      <td>Regent Park</td>\n    </tr>\n    <tr>\n      <th>6</th>\n      <td>M6A</td>\n      <td>North York</td>\n      <td>Lawrence Heights</td>\n    </tr>\n    <tr>\n      <th>7</th>\n      <td>M6A</td>\n      <td>North York</td>\n      <td>Lawrence Manor</td>\n    </tr>\n    <tr>\n      <th>8</th>\n      <td>M7A</td>\n      <td>Queen's Park</td>\n      <td>Not assigned</td>\n    </tr>\n    <tr>\n      <th>10</th>\n      <td>M9A</td>\n      <td>Etobicoke</td>\n      <td>Islington Avenue</td>\n    </tr>\n    <tr>\n      <th>11</th>\n      <td>M1B</td>\n      <td>Scarborough</td>\n      <td>Rouge</td>\n    </tr>\n    <tr>\n      <th>12</th>\n      <td>M1B</td>\n      <td>Scarborough</td>\n      <td>Malvern</td>\n    </tr>\n  </tbody>\n</table>\n</div>", 
                        "text/plain": "   Postcode           Borough    Neighbourhood\\n\n2       M3A        North York         Parkwoods \n3       M4A        North York  Victoria Village \n4       M5A  Downtown Toronto      Harbourfront \n5       M5A  Downtown Toronto       Regent Park \n6       M6A        North York  Lawrence Heights \n7       M6A        North York    Lawrence Manor \n8       M7A      Queen's Park      Not assigned \n10      M9A         Etobicoke  Islington Avenue \n11      M1B       Scarborough             Rouge \n12      M1B       Scarborough           Malvern "
                    }, 
                    "execution_count": 7, 
                    "metadata": {}
                }
            ], 
            "execution_count": 7
        }, 
        {
            "source": "### Groupby Nieghborhood Postcodes", 
            "cell_type": "markdown", 
            "metadata": {}
        }, 
        {
            "source": "df = table.groupby(['Postcode','Borough'])['Neighbourhood\\n'].apply(lambda x: \", \".join(x.astype(str))).reset_index()\ndf = df.sample(frac=1).reset_index(drop=True)\ndf.head(10)", 
            "cell_type": "code", 
            "metadata": {}, 
            "outputs": [
                {
                    "output_type": "execute_result", 
                    "data": {
                        "text/html": "<div>\n<style scoped>\n    .dataframe tbody tr th:only-of-type {\n        vertical-align: middle;\n    }\n\n    .dataframe tbody tr th {\n        vertical-align: top;\n    }\n\n    .dataframe thead th {\n        text-align: right;\n    }\n</style>\n<table border=\"1\" class=\"dataframe\">\n  <thead>\n    <tr style=\"text-align: right;\">\n      <th></th>\n      <th>Postcode</th>\n      <th>Borough</th>\n      <th>Neighbourhood</th>\n    </tr>\n  </thead>\n  <tbody>\n    <tr>\n      <th>0</th>\n      <td>M5H</td>\n      <td>Downtown Toronto</td>\n      <td>Adelaide , King , Richmond</td>\n    </tr>\n    <tr>\n      <th>1</th>\n      <td>M6J</td>\n      <td>West Toronto</td>\n      <td>Little Portugal , Trinity</td>\n    </tr>\n    <tr>\n      <th>2</th>\n      <td>M9L</td>\n      <td>North York</td>\n      <td>Humber Summit</td>\n    </tr>\n    <tr>\n      <th>3</th>\n      <td>M9V</td>\n      <td>Etobicoke</td>\n      <td>Albion Gardens , Beaumond Heights , Humbergate...</td>\n    </tr>\n    <tr>\n      <th>4</th>\n      <td>M2K</td>\n      <td>North York</td>\n      <td>Bayview Village</td>\n    </tr>\n    <tr>\n      <th>5</th>\n      <td>M6E</td>\n      <td>York</td>\n      <td>Caledonia-Fairbanks</td>\n    </tr>\n    <tr>\n      <th>6</th>\n      <td>M9W</td>\n      <td>Etobicoke</td>\n      <td>Northwest</td>\n    </tr>\n    <tr>\n      <th>7</th>\n      <td>M5G</td>\n      <td>Downtown Toronto</td>\n      <td>Central Bay Street</td>\n    </tr>\n    <tr>\n      <th>8</th>\n      <td>M3H</td>\n      <td>North York</td>\n      <td>Bathurst Manor , Downsview North , Wilson Heig...</td>\n    </tr>\n    <tr>\n      <th>9</th>\n      <td>M9M</td>\n      <td>North York</td>\n      <td>Emery , Humberlea</td>\n    </tr>\n  </tbody>\n</table>\n</div>", 
                        "text/plain": "  Postcode           Borough  \\\n0      M5H  Downtown Toronto   \n1      M6J      West Toronto   \n2      M9L        North York   \n3      M9V         Etobicoke   \n4      M2K        North York   \n5      M6E              York   \n6      M9W         Etobicoke   \n7      M5G  Downtown Toronto   \n8      M3H        North York   \n9      M9M        North York   \n\n                                     Neighbourhood\\n  \n0                        Adelaide , King , Richmond   \n1                         Little Portugal , Trinity   \n2                                     Humber Summit   \n3  Albion Gardens , Beaumond Heights , Humbergate...  \n4                                   Bayview Village   \n5                               Caledonia-Fairbanks   \n6                                         Northwest   \n7                                Central Bay Street   \n8  Bathurst Manor , Downsview North , Wilson Heig...  \n9                                 Emery , Humberlea   "
                    }, 
                    "execution_count": 8, 
                    "metadata": {}
                }
            ], 
            "execution_count": 8
        }, 
        {
            "source": "Shape of DataFrame", 
            "cell_type": "markdown", 
            "metadata": {}
        }, 
        {
            "source": "print(df.shape)", 
            "cell_type": "code", 
            "metadata": {}, 
            "outputs": [
                {
                    "output_type": "stream", 
                    "name": "stdout", 
                    "text": "(103, 3)\n"
                }
            ], 
            "execution_count": 9
        }
    ], 
    "metadata": {
        "kernelspec": {
            "display_name": "Python 3.5", 
            "name": "python3", 
            "language": "python"
        }, 
        "language_info": {
            "mimetype": "text/x-python", 
            "nbconvert_exporter": "python", 
            "version": "3.5.5", 
            "name": "python", 
            "pygments_lexer": "ipython3", 
            "file_extension": ".py", 
            "codemirror_mode": {
                "version": 3, 
                "name": "ipython"
            }
        }
    }, 
    "nbformat": 4
}